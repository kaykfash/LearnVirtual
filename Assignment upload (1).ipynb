{
 "cells": [
  {
   "cell_type": "code",
   "execution_count": 1,
   "metadata": {},
   "outputs": [
    {
     "name": "stdout",
     "output_type": "stream",
     "text": [
      "valid\n"
     ]
    }
   ],
   "source": [
    "a=10\n",
    "b=20\n",
    "if (a<20):\n",
    "    print(\"valid\")"
   ]
  },
  {
   "cell_type": "code",
   "execution_count": 2,
   "metadata": {},
   "outputs": [
    {
     "name": "stdout",
     "output_type": "stream",
     "text": [
      "Invalid\n"
     ]
    }
   ],
   "source": [
    "a=10\n",
    "b=20\n",
    "if(a>b):\n",
    "    print(\"valid\")\n",
    "else:\n",
    "    print(\"Invalid\")"
   ]
  },
  {
   "cell_type": "code",
   "execution_count": 1,
   "metadata": {},
   "outputs": [
    {
     "name": "stdout",
     "output_type": "stream",
     "text": [
      "You are welcome:VLADIMR\n"
     ]
    }
   ],
   "source": [
    "username= (input(\"You are welcome:\"))"
   ]
  },
  {
   "cell_type": "code",
   "execution_count": 4,
   "metadata": {},
   "outputs": [],
   "source": [
    "states={\"Lagos\": \"Ikeja\", \"Oyo\":\"Ibadan\",\"Enugu\":\"Enugu\"}"
   ]
  },
  {
   "cell_type": "code",
   "execution_count": null,
   "metadata": {},
   "outputs": [
    {
     "name": "stdout",
     "output_type": "stream",
     "text": [
      "{'Lagos': 'Ikeja', 'Oyo': 'Ibadan', 'Enugu': 'Enugu'}\n"
     ]
    }
   ],
   "source": [
    "print(states)\n"
   ]
  },
  {
   "cell_type": "code",
   "execution_count": null,
   "metadata": {},
   "outputs": [],
   "source": [
    "weekdays=(\"MONDAY\",\"TUESDAY\",\"WEDNESDAY\",\"THURSDAY\",\"FRIDAY\")"
   ]
  },
  {
   "cell_type": "code",
   "execution_count": null,
   "metadata": {},
   "outputs": [
    {
     "name": "stdout",
     "output_type": "stream",
     "text": [
      "('MONDAY', 'TUESDAY', 'WEDNESDAY', 'THURSDAY', 'FRIDAY')\n"
     ]
    }
   ],
   "source": [
    "print(weekdays)"
   ]
  },
  {
   "cell_type": "code",
   "execution_count": null,
   "metadata": {},
   "outputs": [],
   "source": [
    "simtuples=(2,5,7),(4,0,1)"
   ]
  },
  {
   "cell_type": "code",
   "execution_count": null,
   "metadata": {},
   "outputs": [
    {
     "data": {
      "text/plain": [
       "((2, 5, 7), (4, 0, 1))"
      ]
     },
     "execution_count": 9,
     "metadata": {},
     "output_type": "execute_result"
    }
   ],
   "source": [
    "simtuples"
   ]
  },
  {
   "cell_type": "code",
   "execution_count": 2,
   "metadata": {},
   "outputs": [
    {
     "name": "stdout",
     "output_type": "stream",
     "text": [
      "Please enter a value:5\n",
      "Please enter a value:8\n",
      "40\n"
     ]
    }
   ],
   "source": [
    "w=int(input(\"Please enter a value:\"))\n",
    "h=int(input(\"Please enter a value:\"))\n",
    "Area=w*h\n",
    "print(Area)"
   ]
  },
  {
   "cell_type": "code",
   "execution_count": 3,
   "metadata": {},
   "outputs": [
    {
     "name": "stdout",
     "output_type": "stream",
     "text": [
      "Please ener a value:400000000\n",
      "Please enter a value:12\n",
      "Please enter a vlue:91\n",
      "4368000000.0\n"
     ]
    }
   ],
   "source": [
    "p=int(input(\"Please ener a value:\"))\n",
    "r=int(input(\"Please enter a value:\"))\n",
    "t=int(input(\"Please enter a vlue:\"))\n",
    "I=(p*r*t)/100\n",
    "print(I)"
   ]
  },
  {
   "cell_type": "code",
   "execution_count": 4,
   "metadata": {},
   "outputs": [
    {
     "name": "stdout",
     "output_type": "stream",
     "text": [
      "What day is it today? SUNDAY\n",
      "Get ready for work\n"
     ]
    }
   ],
   "source": [
    "weekday=[\"MONDAY\",\"TUESDAY\",\"WEDNESDAY\",\"THURSDAY\",\"FRIDAY\"]\n",
    "weekend=[\"SATURDAY\",\"SUNDAY\"]\n",
    "day=input(\"What day is it today?\")\n",
    "if day in weekend:\n",
    "    print(\"Go back to bed\")\n",
    "else:\n",
    "    print(\"Get ready for work\")"
   ]
  },
  {
   "cell_type": "code",
   "execution_count": 5,
   "metadata": {},
   "outputs": [
    {
     "name": "stdout",
     "output_type": "stream",
     "text": [
      "Amount:9000\n",
      "Insufficient balance\n"
     ]
    }
   ],
   "source": [
    "balance=5000\n",
    "transfer_amnt=int(input(\"Amount:\"))\n",
    "if balance>transfer_amnt:\n",
    "    print(\"okay to transact\")\n",
    "else:\n",
    "    print(\"Insufficient balance\")\n",
    "   "
   ]
  },
  {
   "cell_type": "code",
   "execution_count": 6,
   "metadata": {},
   "outputs": [
    {
     "name": "stdout",
     "output_type": "stream",
     "text": [
      "PLACE YOUR ORDER:FUFU\n",
      "AVAILABLE\n"
     ]
    }
   ],
   "source": [
    "soups=[\"OKRO\",\"EGUSI\",\"OHA\",\"GBEGIRI\",\"WHITESOUP\"]\n",
    "swallow=[\"GARRI\",\"FUFU\",\"WHEAT\"]\n",
    "order=input(\"PLACE YOUR ORDER:\")\n",
    "if order in swallow:\n",
    "     print(\"AVAILABLE\")\n",
    "else:\n",
    "     print(\"NOT AVAILBLE\")"
   ]
  },
  {
   "cell_type": "code",
   "execution_count": 7,
   "metadata": {},
   "outputs": [
    {
     "name": "stdout",
     "output_type": "stream",
     "text": [
      "PLACE YOUR ORDER:EGUSI\n",
      "AVAILABLE\n"
     ]
    }
   ],
   "source": [
    "soups=[\"OKRO\",\"EGUSI\",\"OHA\",\"GBEGIRI\",\"WHITESOUP\"]\n",
    "swallow=[\"GARRI\",\"FUFU\",\"WHEAT\"]\n",
    "order=input(\"PLACE YOUR ORDER:\")\n",
    "if order in soups:\n",
    "     print(\"AVAILABLE\")\n",
    "else:\n",
    "     print(\"NOT AVAILBLE\")"
   ]
  },
  {
   "cell_type": "code",
   "execution_count": 8,
   "metadata": {},
   "outputs": [
    {
     "name": "stdout",
     "output_type": "stream",
     "text": [
      "WELCOME TO ACCESS BANK\n",
      "Enter your pin:345\n",
      "Amount:8000\n",
      "Insufficient balance\n"
     ]
    }
   ],
   "source": [
    "print(\"WELCOME TO ACCESS BANK\")\n",
    "input(\"Enter your pin:\")\n",
    "options=[\"WITHDRAWAL\",\"TRANSFER\",\"BILL PAYMENT\",\"CHANGE PIN\"]\n",
    "options[1]\n",
    "Balance=5000\n",
    "transfer_amnt=int(input(\"Amount:\"))\n",
    "if Balance>transfer_amnt:\n",
    "    print(\"okay to transact\")\n",
    "else:\n",
    "    print(\"Insufficient balance\")"
   ]
  },
  {
   "cell_type": "code",
   "execution_count": 12,
   "metadata": {
    "scrolled": true
   },
   "outputs": [
    {
     "name": "stdout",
     "output_type": "stream",
     "text": [
      "Hello,Welcome to Fash bisrto!, what would you like to eat today\n",
      "Enter your name paul\n",
      "We are glad to have you  paul\n",
      "We have a range of mind blowing recipes to try out\n",
      "Please have a look below, and order a meal\n"
     ]
    }
   ],
   "source": [
    "print(\"Hello,Welcome to Fash bisrto!, what would you like to eat today\")\n",
    "name=input(\"Enter your name\")\n",
    "print(\"We are glad to have you\", name)\n",
    "print(\"We have a range of mind blowing recipes to try out\")\n",
    "print(\"Please have a look below, and order a meal\")\n"
   ]
  },
  {
   "cell_type": "code",
   "execution_count": 1,
   "metadata": {},
   "outputs": [
    {
     "name": "stdout",
     "output_type": "stream",
     "text": [
      "2\n",
      "5\n",
      "8\n",
      "11\n",
      "14\n",
      "17\n",
      "20\n",
      "23\n",
      "26\n",
      "29\n"
     ]
    }
   ],
   "source": [
    "for x in range (2,30,3):\n",
    "     print(x)"
   ]
  },
  {
   "cell_type": "code",
   "execution_count": 6,
   "metadata": {},
   "outputs": [
    {
     "name": "stdout",
     "output_type": "stream",
     "text": [
      "1\n",
      "1\n",
      "1\n",
      "1\n",
      "1\n",
      "1\n",
      "1\n",
      "1\n",
      "1\n",
      "1\n",
      "1\n",
      "1\n",
      "1\n",
      "1\n",
      "1\n",
      "1\n",
      "1\n",
      "1\n",
      "1\n",
      "1\n",
      "1\n",
      "1\n",
      "1\n",
      "1\n",
      "1\n",
      "1\n",
      "1\n",
      "1\n",
      "1\n",
      "1\n",
      "1\n",
      "1\n",
      "1\n",
      "1\n",
      "1\n",
      "1\n",
      "1\n",
      "1\n",
      "1\n",
      "1\n",
      "1\n",
      "1\n",
      "1\n",
      "1\n",
      "1\n",
      "1\n",
      "1\n",
      "1\n",
      "1\n",
      "1\n"
     ]
    }
   ],
   "source": [
    "for i in range (50):\n",
    "     i=+1\n",
    "     print(i)"
   ]
  },
  {
   "cell_type": "code",
   "execution_count": null,
   "metadata": {},
   "outputs": [],
   "source": []
  }
 ],
 "metadata": {
  "kernelspec": {
   "display_name": "Python 3",
   "language": "python",
   "name": "python3"
  },
  "language_info": {
   "codemirror_mode": {
    "name": "ipython",
    "version": 3
   },
   "file_extension": ".py",
   "mimetype": "text/x-python",
   "name": "python",
   "nbconvert_exporter": "python",
   "pygments_lexer": "ipython3",
   "version": "3.7.1"
  }
 },
 "nbformat": 4,
 "nbformat_minor": 2
}
